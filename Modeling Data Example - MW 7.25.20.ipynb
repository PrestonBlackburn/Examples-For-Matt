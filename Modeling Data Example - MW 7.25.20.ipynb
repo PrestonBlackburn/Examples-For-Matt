{
 "cells": [
  {
   "cell_type": "markdown",
   "metadata": {},
   "source": [
    "## Import Packages"
   ]
  },
  {
   "cell_type": "code",
   "execution_count": 27,
   "metadata": {},
   "outputs": [],
   "source": [
    "import matplotlib\n",
    "import matplotlib.pyplot as plt\n",
    "import seaborn\n",
    "import pandas as pd\n",
    "from pandas.plotting import scatter_matrix\n",
    "import numpy as np\n",
    "from scipy import stats\n",
    "import numpy as np\n",
    "\n",
    "\n",
    "from sklearn.preprocessing import scale\n",
    "from sklearn.preprocessing import StandardScaler\n",
    "from sklearn import preprocessing\n",
    "from sklearn.feature_selection import RFE\n",
    "from sklearn.svm import SVR\n",
    "from sklearn.metrics import mutual_info_score\n",
    "from sklearn.metrics import adjusted_mutual_info_score\n",
    "from sklearn.metrics import normalized_mutual_info_score\n",
    "from sklearn.model_selection import train_test_split\n",
    "from sklearn.ensemble import RandomForestClassifier\n",
    "from sklearn.feature_selection import SelectFromModel\n",
    "from sklearn.metrics import accuracy_score\n",
    "from sklearn.feature_selection import SelectPercentile\n",
    "from sklearn.linear_model import LogisticRegression\n",
    "from sklearn.feature_selection import SelectFromModel\n",
    "from sklearn.linear_model import LassoCV\n",
    "from sklearn.pipeline import Pipeline\n",
    "from sklearn.utils import check_random_state\n",
    "#from stability_selection import StabilitySelection\n",
    "from sklearn.linear_model import LinearRegression\n",
    "import statistics \n",
    "from sklearn.linear_model import ElasticNet, Lasso,  BayesianRidge, LassoLarsIC\n",
    "from sklearn.ensemble import RandomForestRegressor,  GradientBoostingRegressor\n",
    "from sklearn.kernel_ridge import KernelRidge\n",
    "from sklearn.pipeline import make_pipeline\n",
    "from sklearn.preprocessing import RobustScaler\n",
    "from sklearn.base import BaseEstimator, TransformerMixin, RegressorMixin, clone\n",
    "from sklearn.model_selection import KFold, cross_val_score, train_test_split\n",
    "from sklearn.metrics import mean_squared_error\n",
    "import xgboost as xgb\n",
    "from sklearn.svm import SVR\n",
    "from sklearn import metrics\n",
    "\n",
    "\n",
    "%matplotlib inline"
   ]
  },
  {
   "cell_type": "markdown",
   "metadata": {},
   "source": [
    "## Import Data"
   ]
  },
  {
   "cell_type": "code",
   "execution_count": 5,
   "metadata": {},
   "outputs": [
    {
     "data": {
      "text/html": [
       "<div>\n",
       "<style scoped>\n",
       "    .dataframe tbody tr th:only-of-type {\n",
       "        vertical-align: middle;\n",
       "    }\n",
       "\n",
       "    .dataframe tbody tr th {\n",
       "        vertical-align: top;\n",
       "    }\n",
       "\n",
       "    .dataframe thead th {\n",
       "        text-align: right;\n",
       "    }\n",
       "</style>\n",
       "<table border=\"1\" class=\"dataframe\">\n",
       "  <thead>\n",
       "    <tr style=\"text-align: right;\">\n",
       "      <th></th>\n",
       "      <th>SG</th>\n",
       "      <th>C1</th>\n",
       "      <th>C2</th>\n",
       "      <th>C3</th>\n",
       "      <th>iC4</th>\n",
       "      <th>C4</th>\n",
       "      <th>C5</th>\n",
       "      <th>C6</th>\n",
       "      <th>C7</th>\n",
       "      <th>MW</th>\n",
       "    </tr>\n",
       "  </thead>\n",
       "  <tbody>\n",
       "    <tr>\n",
       "      <th>0</th>\n",
       "      <td>0.799164</td>\n",
       "      <td>0.1860</td>\n",
       "      <td>0.5045</td>\n",
       "      <td>1.6330</td>\n",
       "      <td>0.6250</td>\n",
       "      <td>2.7600</td>\n",
       "      <td>3.132</td>\n",
       "      <td>5.963</td>\n",
       "      <td>83.3495</td>\n",
       "      <td>151.494304</td>\n",
       "    </tr>\n",
       "    <tr>\n",
       "      <th>1</th>\n",
       "      <td>0.746170</td>\n",
       "      <td>0.0920</td>\n",
       "      <td>0.6805</td>\n",
       "      <td>1.9165</td>\n",
       "      <td>1.0005</td>\n",
       "      <td>2.9215</td>\n",
       "      <td>3.660</td>\n",
       "      <td>9.114</td>\n",
       "      <td>77.9120</td>\n",
       "      <td>120.984780</td>\n",
       "    </tr>\n",
       "    <tr>\n",
       "      <th>2</th>\n",
       "      <td>0.743256</td>\n",
       "      <td>0.0515</td>\n",
       "      <td>0.6295</td>\n",
       "      <td>1.7860</td>\n",
       "      <td>0.9895</td>\n",
       "      <td>2.8500</td>\n",
       "      <td>3.702</td>\n",
       "      <td>9.396</td>\n",
       "      <td>77.7945</td>\n",
       "      <td>119.562038</td>\n",
       "    </tr>\n",
       "    <tr>\n",
       "      <th>3</th>\n",
       "      <td>0.728216</td>\n",
       "      <td>0.0955</td>\n",
       "      <td>0.7335</td>\n",
       "      <td>2.0560</td>\n",
       "      <td>1.1800</td>\n",
       "      <td>3.3735</td>\n",
       "      <td>4.158</td>\n",
       "      <td>10.481</td>\n",
       "      <td>74.7175</td>\n",
       "      <td>109.503770</td>\n",
       "    </tr>\n",
       "    <tr>\n",
       "      <th>4</th>\n",
       "      <td>0.722747</td>\n",
       "      <td>0.0745</td>\n",
       "      <td>0.6565</td>\n",
       "      <td>1.8785</td>\n",
       "      <td>1.1075</td>\n",
       "      <td>3.1220</td>\n",
       "      <td>4.074</td>\n",
       "      <td>11.031</td>\n",
       "      <td>74.9760</td>\n",
       "      <td>106.965828</td>\n",
       "    </tr>\n",
       "  </tbody>\n",
       "</table>\n",
       "</div>"
      ],
      "text/plain": [
       "         SG      C1      C2      C3     iC4      C4     C5      C6       C7  \\\n",
       "0  0.799164  0.1860  0.5045  1.6330  0.6250  2.7600  3.132   5.963  83.3495   \n",
       "1  0.746170  0.0920  0.6805  1.9165  1.0005  2.9215  3.660   9.114  77.9120   \n",
       "2  0.743256  0.0515  0.6295  1.7860  0.9895  2.8500  3.702   9.396  77.7945   \n",
       "3  0.728216  0.0955  0.7335  2.0560  1.1800  3.3735  4.158  10.481  74.7175   \n",
       "4  0.722747  0.0745  0.6565  1.8785  1.1075  3.1220  4.074  11.031  74.9760   \n",
       "\n",
       "           MW  \n",
       "0  151.494304  \n",
       "1  120.984780  \n",
       "2  119.562038  \n",
       "3  109.503770  \n",
       "4  106.965828  "
      ]
     },
     "execution_count": 5,
     "metadata": {},
     "output_type": "execute_result"
    }
   ],
   "source": [
    "#import\n",
    "Data = pd.read_csv(r'C:\\Users\\Preston\\Combined Flowcals2.csv')  # importing the csv file\n",
    "\n",
    "#Drop Useless Features\n",
    "Data = Data.drop(['N2','Pressure','Temp','CO2','iC5'],axis=1)  # Replace 'N2', 'Pressure', etc. with any features -\n",
    "                                                                # you don't want to use in your model\n",
    "Data = (Data).astype(float) #make sure all data is type float\n",
    "names = list(Data.columns) #saving column names\n",
    "\n",
    "\n",
    "\n",
    "Data.head()"
   ]
  },
  {
   "cell_type": "code",
   "execution_count": 35,
   "metadata": {},
   "outputs": [],
   "source": [
    "#split data into test and train sets\n",
    "X = Data[['SG', 'C1', 'C2', 'C3', 'iC4', 'C5', 'C6', 'C7']].values\n",
    "y = Data['MW'].values # the value you want to model\n",
    "\n",
    "X_train, X_test, y_train, y_test = train_test_split(X, y, test_size=0.2, random_state=42) #set test/train split\n",
    "\n",
    "## could scale data here if necessary - I skipped that step here\n",
    "\n"
   ]
  },
  {
   "cell_type": "markdown",
   "metadata": {},
   "source": [
    "## Using Cross-Validation to Generate Generalizable Models"
   ]
  },
  {
   "cell_type": "code",
   "execution_count": 18,
   "metadata": {},
   "outputs": [],
   "source": [
    "#Cross Validation function - avoids overfitting\n",
    "n_folds = 6\n",
    "\n",
    "def rmse_cv(model):\n",
    "    kf = KFold(n_folds, shuffle=True, random_state=42).get_n_splits(X_train)\n",
    "    rmse= np.sqrt(-cross_val_score(model, X_train, y_train, scoring=\"neg_mean_squared_error\", cv = kf))\n",
    "    return(rmse)"
   ]
  },
  {
   "cell_type": "code",
   "execution_count": 19,
   "metadata": {},
   "outputs": [],
   "source": [
    "# Selecting Models and Hyperparameters to test\n",
    "\n",
    "lasso = make_pipeline(RobustScaler(), Lasso(alpha =0.05, random_state=1))\n",
    "\n",
    "ENet = make_pipeline(RobustScaler(), ElasticNet(alpha=0.05, l1_ratio=.9, random_state=3))\n",
    "\n",
    "KRR = KernelRidge(alpha=0.6, kernel='polynomial', degree=2, coef0=2.5)\n",
    "\n",
    "GBoost = GradientBoostingRegressor(n_estimators=3000, learning_rate=0.1,\n",
    "                                   max_depth=4, max_features='sqrt',\n",
    "                                   min_samples_leaf=15, min_samples_split=10, \n",
    "                                   loss='huber', random_state =5)\n",
    "\n",
    "m_xgb = xgb.XGBRegressor(colsample_bytree=0.4603, gamma=0.0468, \n",
    "                             learning_rate=0.05, max_depth=3, \n",
    "                             min_child_weight=1.7817, n_estimators=2200,\n",
    "                             reg_alpha=0.4640, reg_lambda=0.8571,\n",
    "                             subsample=0.5213, silent=1,\n",
    "                             random_state =7, nthread = -1)\n",
    "\n",
    "svr = SVR(gamma='scale', C=10.0, epsilon=0.1)"
   ]
  },
  {
   "cell_type": "code",
   "execution_count": 37,
   "metadata": {},
   "outputs": [
    {
     "name": "stdout",
     "output_type": "stream",
     "text": [
      "\n",
      "Lasso Accuracy: 3.4507 (+/- 1.4975)\n",
      "\n",
      "ElasticNet Accuracy: 3.4509 (+/- 1.4667)\n",
      "\n",
      "Kernel Ridge Accuracy: 3.6858 (+/- 3.0545)\n",
      "\n",
      "Gradient Boosting Accuracy: 3.6778 (+/- 2.1190)\n",
      "\n",
      "Xgboost Accuracy: 3.8537 (+/- 1.9562)\n",
      "\n",
      "svr Accuracy: 5.7775 (+/- 0.7010)\n",
      "\n"
     ]
    }
   ],
   "source": [
    "## Looking at RMSE and Cross Validation Results\n",
    "\n",
    "## Mean score and 95% confidence interval\n",
    "\n",
    "score = rmse_cv(lasso)\n",
    "print(\"\\nLasso Accuracy: {:.4f} (+/- {:.4f})\\n\".format(score.mean(), score.std() * 2))\n",
    "\n",
    "score = rmse_cv(ENet)\n",
    "print(\"ElasticNet Accuracy: {:.4f} (+/- {:.4f})\\n\".format(score.mean(), score.std()  * 2))\n",
    "\n",
    "score = rmse_cv(KRR)\n",
    "print(\"Kernel Ridge Accuracy: {:.4f} (+/- {:.4f})\\n\".format(score.mean(), score.std() * 2))\n",
    "\n",
    "score = rmse_cv(GBoost)\n",
    "print(\"Gradient Boosting Accuracy: {:.4f} (+/- {:.4f})\\n\".format(score.mean(), score.std() * 2))\n",
    "\n",
    "score = rmse_cv(m_xgb)\n",
    "print(\"Xgboost Accuracy: {:.4f} (+/- {:.4f})\\n\".format(score.mean(), score.std() * 2))\n",
    "\n",
    "score = rmse_cv(svr)\n",
    "print(\"svr Accuracy: {:.4f} (+/- {:.4f})\\n\".format(score.mean(), score.std() * 2))"
   ]
  },
  {
   "cell_type": "markdown",
   "metadata": {},
   "source": [
    "## Combining Models\n",
    "        Comparing Averaging vs Stacking"
   ]
  },
  {
   "cell_type": "markdown",
   "metadata": {},
   "source": [
    "#### Averaging models"
   ]
  },
  {
   "cell_type": "code",
   "execution_count": 21,
   "metadata": {},
   "outputs": [],
   "source": [
    "class AveragingModels(BaseEstimator, RegressorMixin, TransformerMixin):\n",
    "    def __init__(self, models):\n",
    "        self.models = models\n",
    "        \n",
    "    # we define clones of the original models to fit the data in\n",
    "    def fit(self, X, y):\n",
    "        self.models_ = [clone(x) for x in self.models]\n",
    "        \n",
    "        # Train cloned base models\n",
    "        for model in self.models_:\n",
    "            model.fit(X, y)\n",
    "\n",
    "        return self\n",
    "    \n",
    "    #Now we do the predictions for cloned models and average them\n",
    "    def predict(self, X):\n",
    "        predictions = np.column_stack([\n",
    "            model.predict(X) for model in self.models_\n",
    "        ])\n",
    "        return np.mean(predictions, axis=1)   "
   ]
  },
  {
   "cell_type": "code",
   "execution_count": 22,
   "metadata": {},
   "outputs": [
    {
     "name": "stdout",
     "output_type": "stream",
     "text": [
      " Averaged base models score: 2.9799 (0.4193)\n",
      "\n"
     ]
    }
   ],
   "source": [
    "averaged_models = AveragingModels(models = (ENet, GBoost, KRR, lasso, m_xgb))\n",
    "\n",
    "score = rmse_cv(averaged_models)\n",
    "print(\" Averaged base models score: {:.4f} ({:.4f})\\n\".format(score.mean(), score.std()))"
   ]
  },
  {
   "cell_type": "markdown",
   "metadata": {},
   "source": [
    "#### Stacking Models"
   ]
  },
  {
   "cell_type": "code",
   "execution_count": 23,
   "metadata": {},
   "outputs": [],
   "source": [
    "class StackingAveragedModels(BaseEstimator, RegressorMixin, TransformerMixin):\n",
    "    def __init__(self, base_models, meta_model, n_folds=6):\n",
    "        self.base_models = base_models\n",
    "        self.meta_model = meta_model\n",
    "        self.n_folds = n_folds\n",
    "   \n",
    "    # We again fit the data on clones of the original models\n",
    "    def fit(self, X, y):\n",
    "        self.base_models_ = [list() for x in self.base_models]\n",
    "        self.meta_model_ = clone(self.meta_model)\n",
    "        kfold = KFold(n_splits=self.n_folds, shuffle=True, random_state=42)\n",
    "        \n",
    "        # Train cloned base models then create out-of-fold predictions\n",
    "        # that are needed to train the cloned meta-model\n",
    "        out_of_fold_predictions = np.zeros((X.shape[0], len(self.base_models)))\n",
    "        for i, model in enumerate(self.base_models):\n",
    "            for train_index, holdout_index in kfold.split(X, y):\n",
    "                instance = clone(model)\n",
    "                self.base_models_[i].append(instance)\n",
    "                instance.fit(X[train_index], y[train_index])\n",
    "                y_pred = instance.predict(X[holdout_index])\n",
    "                out_of_fold_predictions[holdout_index, i] = y_pred\n",
    "                \n",
    "        # Now train the cloned  meta-model using the out-of-fold predictions as new feature\n",
    "        self.meta_model_.fit(out_of_fold_predictions, y)\n",
    "        return self\n",
    "   \n",
    "    #Do the predictions of all base models on the test data and use the averaged predictions as \n",
    "    #meta-features for the final prediction which is done by the meta-model\n",
    "    def predict(self, X):\n",
    "        meta_features = np.column_stack([\n",
    "            np.column_stack([model.predict(X) for model in base_models]).mean(axis=1)\n",
    "            for base_models in self.base_models_ ])\n",
    "        return self.meta_model_.predict(meta_features)"
   ]
  },
  {
   "cell_type": "markdown",
   "metadata": {},
   "source": [
    "##### *This can take a while to run"
   ]
  },
  {
   "cell_type": "code",
   "execution_count": 24,
   "metadata": {},
   "outputs": [
    {
     "name": "stdout",
     "output_type": "stream",
     "text": [
      "Stacking Averaged models score: 3.1579 (0.5826)\n"
     ]
    }
   ],
   "source": [
    "stacked_averaged_models = StackingAveragedModels(base_models = (ENet, GBoost, KRR),\n",
    "                                                 meta_model = lasso)\n",
    "\n",
    "score = rmse_cv(stacked_averaged_models)\n",
    "print(\"Stacking Averaged models score: {:.4f} ({:.4f})\".format(score.mean(), score.std()))"
   ]
  },
  {
   "cell_type": "markdown",
   "metadata": {},
   "source": [
    "## Looking at RMSE of models"
   ]
  },
  {
   "cell_type": "code",
   "execution_count": null,
   "metadata": {},
   "outputs": [],
   "source": [
    "def rmse(y, y_pred):\n",
    "    return np.sqrt(mean_squared_error(y, y_pred))"
   ]
  },
  {
   "cell_type": "code",
   "execution_count": 29,
   "metadata": {},
   "outputs": [
    {
     "name": "stdout",
     "output_type": "stream",
     "text": [
      "Final score (RMSE), averaged: 3.209783001639572\n",
      "Final score (MAE), averaged: 2.122034031467255\n",
      "Final score (r2), averaged: 0.917572519520765\n",
      "Final score (RMSE), stacked: 3.211275938394433\n",
      "Final score (MAE), stacked: 2.0861797329807295\n",
      "Final score (r2), stacked: 0.9174958242215454\n"
     ]
    }
   ],
   "source": [
    "averaged_models.fit(X_train, y_train)\n",
    "averaged_train_pred = averaged_models.predict(X_train)\n",
    "averaged_test_pred = averaged_models.predict(X_test)\n",
    "\n",
    "RMSE = np.sqrt(metrics.mean_squared_error(y_test, averaged_test_pred))\n",
    "print(\"Final score (RMSE), averaged: {}\".format(RMSE))\n",
    "\n",
    "MAE = metrics.mean_absolute_error(y_test, averaged_test_pred)\n",
    "print((\"Final score (MAE), averaged: {}\".format(MAE)))\n",
    "\n",
    "r2 = metrics.r2_score(y_test, averaged_test_pred)\n",
    "print((\"Final score (r2), averaged: {}\".format(r2)))\n",
    "\n",
    "\n",
    "\n",
    "stacked_averaged_models.fit(X_train, y_train)\n",
    "stacked_train_pred = stacked_averaged_models.predict(X_train)\n",
    "stacked_pred = stacked_averaged_models.predict(X_test)\n",
    "#print(rmse(y_train, stacked_train_pred))\n",
    "#print(rmse(y_test, stacked_pred))\n",
    "\n",
    "RMSE = np.sqrt(metrics.mean_squared_error(y_test, stacked_pred))\n",
    "print(\"Final score (RMSE), stacked: {}\".format(RMSE))\n",
    "\n",
    "MAE = metrics.mean_absolute_error(y_test, stacked_pred)\n",
    "print((\"Final score (MAE), stacked: {}\".format(MAE)))\n",
    "\n",
    "r2 = metrics.r2_score(y_test, stacked_pred)\n",
    "print((\"Final score (r2), stacked: {}\".format(r2)))"
   ]
  },
  {
   "cell_type": "markdown",
   "metadata": {},
   "source": [
    "## Plot Results"
   ]
  },
  {
   "cell_type": "code",
   "execution_count": 38,
   "metadata": {},
   "outputs": [
    {
     "data": {
      "image/png": "[encoded data removed]",
      "text/plain": [
       "<Figure size 1440x720 with 1 Axes>"
      ]
     },
     "metadata": {
      "needs_background": "light"
     },
     "output_type": "display_data"
    }
   ],
   "source": [
    "plt.figure(figsize=(20,10))\n",
    "\n",
    "\n",
    "a = plt.axes(aspect='equal')\n",
    "plt.scatter(y_test, averaged_test_pred, s = 20, alpha = 0.5, label = 'model 1')\n",
    "plt.scatter(y_test, stacked_pred, color = 'purple', s = 20, alpha = 0.5, label = 'model 2')\n",
    "plt.xlabel('True Values')\n",
    "plt.ylabel('Predictions')\n",
    "lims = [50, 180]   # change this so it fits your data, this is the graph size\n",
    "plt.xlim(lims)\n",
    "plt.ylim(lims)\n",
    "_ = plt.plot(lims, lims)\n",
    "plt.title('Model vs Data')\n",
    "plt.legend(loc=\"upper left\")\n",
    "plt.show()\n"
   ]
  },
  {
   "cell_type": "markdown",
   "metadata": {},
   "source": [
    "## Send Results to a CSV file"
   ]
  },
  {
   "cell_type": "code",
   "execution_count": 50,
   "metadata": {},
   "outputs": [
    {
     "data": {
      "text/html": [
       "<div>\n",
       "<style scoped>\n",
       "    .dataframe tbody tr th:only-of-type {\n",
       "        vertical-align: middle;\n",
       "    }\n",
       "\n",
       "    .dataframe tbody tr th {\n",
       "        vertical-align: top;\n",
       "    }\n",
       "\n",
       "    .dataframe thead th {\n",
       "        text-align: right;\n",
       "    }\n",
       "</style>\n",
       "<table border=\"1\" class=\"dataframe\">\n",
       "  <thead>\n",
       "    <tr style=\"text-align: right;\">\n",
       "      <th></th>\n",
       "      <th>Real Values</th>\n",
       "      <th>model prediction</th>\n",
       "    </tr>\n",
       "  </thead>\n",
       "  <tbody>\n",
       "    <tr>\n",
       "      <th>0</th>\n",
       "      <td>116.104031</td>\n",
       "      <td>119.033401</td>\n",
       "    </tr>\n",
       "    <tr>\n",
       "      <th>1</th>\n",
       "      <td>127.039237</td>\n",
       "      <td>127.180155</td>\n",
       "    </tr>\n",
       "    <tr>\n",
       "      <th>2</th>\n",
       "      <td>122.044550</td>\n",
       "      <td>122.357501</td>\n",
       "    </tr>\n",
       "    <tr>\n",
       "      <th>3</th>\n",
       "      <td>135.215490</td>\n",
       "      <td>130.799785</td>\n",
       "    </tr>\n",
       "    <tr>\n",
       "      <th>4</th>\n",
       "      <td>110.684088</td>\n",
       "      <td>111.630292</td>\n",
       "    </tr>\n",
       "  </tbody>\n",
       "</table>\n",
       "</div>"
      ],
      "text/plain": [
       "   Real Values  model prediction\n",
       "0   116.104031        119.033401\n",
       "1   127.039237        127.180155\n",
       "2   122.044550        122.357501\n",
       "3   135.215490        130.799785\n",
       "4   110.684088        111.630292"
      ]
     },
     "execution_count": 50,
     "metadata": {},
     "output_type": "execute_result"
    }
   ],
   "source": [
    "results = pd.DataFrame(data=y_test, columns=[\"Real Values\"])\n",
    "results[\"model prediction\"] = stacked_pred  # can add more results this way\n",
    "\n",
    "results.to_csv(r'C:\\Users\\Preston\\model results.csv') #save output csv wherever you want\n",
    "results.head()"
   ]
  },
  {
   "cell_type": "code",
   "execution_count": null,
   "metadata": {},
   "outputs": [],
   "source": []
  }
 ],
 "metadata": {
  "kernelspec": {
   "display_name": "Python 3",
   "language": "python",
   "name": "python3"
  },
  "language_info": {
   "codemirror_mode": {
    "name": "ipython",
    "version": 3
   },
   "file_extension": ".py",
   "mimetype": "text/x-python",
   "name": "python",
   "nbconvert_exporter": "python",
   "pygments_lexer": "ipython3",
   "version": "3.7.4"
  }
 },
 "nbformat": 4,
 "nbformat_minor": 2
}
